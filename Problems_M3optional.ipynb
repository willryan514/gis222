{
 "cells": [
  {
   "cell_type": "markdown",
   "metadata": {},
   "source": [
    "You should consider the following before turning this problem in: Make sure everything runs as expected. First, **restart the kernel** (in the menubar, select Kernel$\\rightarrow$Restart) and then **run all cells** (in the menubar, select Cell$\\rightarrow$Run All)."
   ]
  },
  {
   "cell_type": "markdown",
   "metadata": {},
   "source": [
    "---"
   ]
  },
  {
   "cell_type": "markdown",
   "metadata": {
    "deletable": false,
    "editable": false,
    "nbgrader": {
     "cell_type": "markdown",
     "checksum": "03c1d54d35192a7da83060a6298f0eb1",
     "grade": false,
     "grade_id": "jupyter",
     "locked": true,
     "schema_version": 3,
     "solution": false
    }
   },
   "source": [
    "### Notebook Assignment Module 3\n",
    "\n",
    "# Optional Exercises\n",
    "\n",
    "This Assignment is part of Module 3 of the course GIS222 (Fall2019).\n",
    "\n",
    "For this problem set, we'll be using Jupyter notebook: [<img src=\"img/jupyter.png\" alt=\"Jupyter Project Logo\" title=\"Jupyter Project\" width=\"100\" />](https://jupyter-notebook.readthedocs.io/en/stable/)\n",
    "\n",
    "Enter your solution where it says **YOUR CODE HERE** or **YOUR ANSWER HERE** and, if remaining, **delete** the statement **\"raise NotImplementedError()\"** when filling in your solution. For some tasks, additional interactive testing cells allow you to test your code.\n",
    "\n",
    "Fill also your name and collaborators below."
   ]
  },
  {
   "cell_type": "code",
   "execution_count": null,
   "metadata": {},
   "outputs": [],
   "source": [
    "NAME = \"William Ryan\"\n",
    "COLLABORATORS = \"\""
   ]
  },
  {
   "cell_type": "markdown",
   "metadata": {
    "deletable": false,
    "editable": false,
    "nbgrader": {
     "cell_type": "markdown",
     "checksum": "a66b660a843084e479d956a3acac727a",
     "grade": false,
     "grade_id": "TaskA",
     "locked": true,
     "schema_version": 3,
     "solution": false
    }
   },
   "source": [
    "## Part A: Python Objects (3 points)\n",
    "\n",
    "What does it mean if an object is mutable? What about immutable? Name at least two mutable and two immutable objects in Python. "
   ]
  },
  {
   "cell_type": "markdown",
   "metadata": {
    "deletable": false,
    "nbgrader": {
     "cell_type": "markdown",
     "checksum": "aa7cd7e9201ed4e7b678a19a9391bbad",
     "grade": true,
     "grade_id": "MutableObjects",
     "locked": false,
     "points": 3,
     "schema_version": 3,
     "solution": true
    }
   },
   "source": [
    "Simply put, mutable means an object can be changed after it is created. Lists and sets are mutable. On the other hand immutable means unable to be changed. This includes Strings and Tuples."
   ]
  },
  {
   "cell_type": "markdown",
   "metadata": {
    "deletable": false,
    "editable": false,
    "nbgrader": {
     "cell_type": "markdown",
     "checksum": "2e09f4ba88b52c3ea74b7c716ff3276e",
     "grade": false,
     "grade_id": "cell-B",
     "locked": true,
     "schema_version": 3,
     "solution": false
    }
   },
   "source": [
    "---\n",
    "## Part B: Temperature Conversion (2 points)\n",
    "\n",
    "For this task, let's the code the algorithm of the temperature conversion, which you have had forumulated in pseudocode during the course module 1.\n",
    "\n",
    "Complete a Python function that is supposed convert the input Fahrenheit degree into its Celsius degree equivalent, based on the following equation: \n",
    "\n",
    "$C=5/9 * (F-32)$\n",
    "\n",
    "For that translate the equation into code, and enter it to replace the commented line (`### YOUR CODE HERE`). Make sure to use the variable names `C` and `F` for the two temperature variables and keep the indent! Also leave lines unchanged that contain such the comment `leave this line unchanged`.\n",
    "\n",
    "Note: Commented parts in the code are ignored by the interpreter. It starts with a `#` and ends at the end of a line. The Jupyter Notebook colors comments in an olive green color.\n",
    "\n"
   ]
  },
  {
   "cell_type": "code",
   "execution_count": 4,
   "metadata": {
    "deletable": false,
    "nbgrader": {
     "cell_type": "code",
     "checksum": "68aead81b75356658800f1f63d96ba41",
     "grade": false,
     "grade_id": "cell-Banswer",
     "locked": false,
     "schema_version": 3,
     "solution": true
    }
   },
   "outputs": [],
   "source": [
    "\"\"\" Enter the conversion equation below, keep the indent and \n",
    "    use C and F for the temperature values!!!\n",
    "    Do not change the lines that state 'leave this line unchanged'  \"\"\"\n",
    "\n",
    "def tempConvert(F):   # leave this line unchanged\n",
    "    C = 5/9*(F-32)\n",
    "    \n",
    "    return(C)         # leave this line unchanged"
   ]
  },
  {
   "cell_type": "markdown",
   "metadata": {
    "deletable": false,
    "editable": false,
    "nbgrader": {
     "cell_type": "markdown",
     "checksum": "f9ebabedf641c4d2d6afe6573f5efd30",
     "grade": false,
     "grade_id": "cell-Bcheck",
     "locked": true,
     "schema_version": 3,
     "solution": false
    }
   },
   "source": [
    "In the next code cell, assign a variable `tempF` with any value for a Temperature in Degree-Fahrenheit. Then run the two cells further below to receive converted value to Degree-Celcius and test your code. You can try different values. If you are satisfied with the test, move on to the next task."
   ]
  },
  {
   "cell_type": "code",
   "execution_count": 5,
   "metadata": {
    "deletable": false,
    "nbgrader": {
     "cell_type": "code",
     "checksum": "8c0ac04550c25731e939d67945cb6641",
     "grade": false,
     "grade_id": "cell-Banswer2",
     "locked": false,
     "schema_version": 3,
     "solution": true
    }
   },
   "outputs": [],
   "source": [
    "\"\"\"Assign the variable 'tempF' with any value for a Temperature in Degree Fahrenheit.\"\"\"\n",
    "\n",
    "tempF = 32\n"
   ]
  },
  {
   "cell_type": "code",
   "execution_count": 6,
   "metadata": {
    "deletable": false,
    "editable": false,
    "nbgrader": {
     "cell_type": "code",
     "checksum": "5bf7b2d75f4ccbdd9c38187ca74bfb40",
     "grade": false,
     "grade_id": "cell-Bcheck1",
     "locked": true,
     "schema_version": 3,
     "solution": false
    }
   },
   "outputs": [
    {
     "data": {
      "text/plain": [
       "0.0"
      ]
     },
     "execution_count": 6,
     "metadata": {},
     "output_type": "execute_result"
    }
   ],
   "source": [
    "\"\"\"Check that your code returns the converted Temperature. \"\"\"\n",
    " \n",
    "tempConvert(tempF)"
   ]
  },
  {
   "cell_type": "code",
   "execution_count": 7,
   "metadata": {
    "deletable": false,
    "editable": false,
    "nbgrader": {
     "cell_type": "code",
     "checksum": "4e4e9bab2b55f6d89b7451d3a255ab08",
     "grade": true,
     "grade_id": "cell-Bcheck2",
     "locked": true,
     "points": 2,
     "schema_version": 3,
     "solution": false
    }
   },
   "outputs": [],
   "source": [
    "\"\"\"Check that your assigns a number to tempF and that it returns a correctly converted Temperature. \"\"\"\n",
    "\n",
    "assert type(tempF) == float or int\n",
    "assert tempConvert(32) == 0\n",
    "assert tempConvert(50) == 10\n",
    "assert tempConvert(100) == 37.77777777777778\n",
    "\n"
   ]
  },
  {
   "cell_type": "markdown",
   "metadata": {
    "deletable": false,
    "editable": false,
    "nbgrader": {
     "cell_type": "markdown",
     "checksum": "d3158e7b650979ce0e45071caa10f321",
     "grade": false,
     "grade_id": "cell-C",
     "locked": true,
     "schema_version": 3,
     "solution": false
    }
   },
   "source": [
    "---\n",
    "## Part C:  Boolean Objects (2 Points)\n",
    "\n",
    "Assign the variable a, b and c with number or string values, so that all tests in the following cell return True."
   ]
  },
  {
   "cell_type": "code",
   "execution_count": 8,
   "metadata": {
    "deletable": false,
    "nbgrader": {
     "cell_type": "code",
     "checksum": "6d9351c8e50a43889a53fc227d60796c",
     "grade": false,
     "grade_id": "cell-Canswer",
     "locked": false,
     "schema_version": 3,
     "solution": true
    }
   },
   "outputs": [],
   "source": [
    "\"\"\" Assign the variable a, b and c with number or string values,\n",
    "    so that all tests in the following cell return True \"\"\"\n",
    "\n",
    "c=0\n",
    "b=0\n",
    "a='spam'"
   ]
  },
  {
   "cell_type": "code",
   "execution_count": 9,
   "metadata": {},
   "outputs": [
    {
     "name": "stdout",
     "output_type": "stream",
     "text": [
      "True True True True\n"
     ]
    }
   ],
   "source": [
    "\"\"\"Check that your code returns only True test results\"\"\"\n",
    "\n",
    "Test1 = (type(c) == int)\n",
    "Test2 = not b and bool(a)\n",
    "Test3 = not(c) and a == 'spam'\n",
    "Test4 = (type(c) == type(b))\n",
    "\n",
    "print(Test1, Test2, Test3, Test4)"
   ]
  },
  {
   "cell_type": "code",
   "execution_count": 10,
   "metadata": {
    "deletable": false,
    "editable": false,
    "nbgrader": {
     "cell_type": "code",
     "checksum": "f8fb5de137d2bd807edb2f9e9f808f9b",
     "grade": true,
     "grade_id": "cell-Ctest",
     "locked": true,
     "points": 2,
     "schema_version": 3,
     "solution": false
    }
   },
   "outputs": [],
   "source": [
    "\"\"\"Check that your code returns only True test results\"\"\"\n",
    "assert Test1 == True\n",
    "assert Test2 == True\n",
    "assert Test3 == True\n",
    "assert Test4 == True\n",
    "assert type(a) == int or float or str\n",
    "assert type(b) == int or float or str\n",
    "assert type(c) == int or float or str"
   ]
  },
  {
   "cell_type": "markdown",
   "metadata": {
    "deletable": false,
    "editable": false,
    "nbgrader": {
     "cell_type": "markdown",
     "checksum": "970a8b8675ffd5082d2e9de7f7caaf3b",
     "grade": false,
     "grade_id": "cell-0e3e029e22f117fe",
     "locked": true,
     "schema_version": 3,
     "solution": false
    }
   },
   "source": [
    "---\n",
    "\n",
    "## Part D: Sequence operations with Strings and Lists (3 points)\n",
    "This tasks includes several string-list operations. You should process a string variable with the name `strIn` in the following way:\n",
    "\n",
    "Split the string variable `strIn` into a list of strings with a space delimiter. Use the method `split()`\n",
    "Then, using only list comprehensions, add % in front and at the end of every single word in the string list `strIn` (from previous task item). Assign the result to a new variable of the name `strListOut`.\n",
    "\n",
    "Add your code sequence in the following code block where it says YOUR CODE HERE. It will complete the following code block (function). You may code this in one or two steps. But, the variables for input (`strIn`) and output (`strListOut`) of your code sequence have to have the same names as stated in the task.\n",
    "\n",
    "Example: \n",
    "\n",
    "A string `\"Spring is Awesome in Tempe\"` would become a list like this: `['%Spring%','%is%', '%awesome%', '%in%', '%Tempe%']`\n"
   ]
  },
  {
   "cell_type": "code",
   "execution_count": 13,
   "metadata": {
    "deletable": false,
    "nbgrader": {
     "cell_type": "code",
     "checksum": "ac9c9fc76426f5209960dbb183168f54",
     "grade": false,
     "grade_id": "cell-Danswer1",
     "locked": false,
     "schema_version": 3,
     "solution": true
    }
   },
   "outputs": [],
   "source": [
    "def stringManipulation(strIn): # leave this line unchanged\n",
    "    \n",
    "    \"\"\"Enter your answer below, do not change the indent!\"\"\"\n",
    "    splitList = strIn.split()\n",
    "    strListOut = []\n",
    "    for Word in splitList:\n",
    "        strListOut.append('%' + Word + '%')\n",
    "\n",
    "\n",
    "    return(strListOut) # leave this line unchanged"
   ]
  },
  {
   "cell_type": "code",
   "execution_count": 15,
   "metadata": {},
   "outputs": [
    {
     "data": {
      "text/plain": [
       "['%Is%', '%there%', '%anybody%', '%out%', '%there?%']"
      ]
     },
     "execution_count": 15,
     "metadata": {},
     "output_type": "execute_result"
    }
   ],
   "source": [
    "\"\"\"Check that your code correctly manipulated the input string. \n",
    "   Use any other non-empty string as example.\"\"\"\n",
    "\n",
    "stringExample = \"Is there anybody out there?\"\n",
    "stringManipulation(stringExample)"
   ]
  },
  {
   "cell_type": "code",
   "execution_count": 16,
   "metadata": {
    "deletable": false,
    "editable": false,
    "nbgrader": {
     "cell_type": "code",
     "checksum": "dbef8789a0fd7ce4c42d1a9d2aab4c1c",
     "grade": true,
     "grade_id": "cell-Xtest",
     "locked": true,
     "points": 3,
     "schema_version": 3,
     "solution": false
    }
   },
   "outputs": [],
   "source": [
    "\"\"\"Check that your code correctly manipulates the input string.\"\"\"\n",
    "\n",
    "stringExample1 = \"Spring is Awesome in Tempe\"\n",
    "assert stringManipulation(stringExample1) == ['%Spring%', '%is%', '%Awesome%', '%in%', '%Tempe%']\n",
    "assert stringManipulation(stringExample1)[0][0] == '%'\n",
    "assert stringManipulation(stringExample1)[0][-1] == '%'\n",
    "assert type(stringManipulation(stringExample1)) == list\n"
   ]
  },
  {
   "cell_type": "markdown",
   "metadata": {
    "deletable": false,
    "editable": false,
    "nbgrader": {
     "cell_type": "markdown",
     "checksum": "45327fb4600a86ca062fa1abbb5bbc68",
     "grade": false,
     "grade_id": "cell-E1",
     "locked": true,
     "schema_version": 3,
     "solution": false
    }
   },
   "source": [
    "---\n",
    "## Part E: List Comprehension with Number Lists\n",
    "\n",
    "### Task E.1 (3 points)\n",
    "\n",
    "This tasks includes writing list comprehensions and other operations:\n",
    "\n",
    "* Write a a single list comprehension to print all the numbers in the range 1-100 that are either divisible by 10 or 11. Assign the result to a list `outList`. Use the built-in function `range()`.\n",
    "\n",
    "\n",
    "Enter the code for these task items in the cell below. Separate the blocks of the tasks items with a commented line,  starting with `# `. Use exactly these variable names, put your code below, where it states `YOUR CODE HERE` and keep the indent as provided."
   ]
  },
  {
   "cell_type": "code",
   "execution_count": 21,
   "metadata": {
    "deletable": false,
    "nbgrader": {
     "cell_type": "code",
     "checksum": "2911b960e6c1aaead553b1dd72891646",
     "grade": false,
     "grade_id": "cell-E1answer",
     "locked": false,
     "schema_version": 3,
     "solution": true
    }
   },
   "outputs": [],
   "source": [
    "\"\"\"Write a list comprehension to find numbers divisible \n",
    "   by at least one of two given integer numbers. \"\"\"\n",
    "\n",
    "def divisionList(a,b): # leave this line unchanged\n",
    "    \n",
    "    \"\"\"Enter your answer below, do not change the indent!\"\"\"\n",
    "    outList = []\n",
    "    for x in range (1, 101):\n",
    "        if x%a == 0 or x%b == 0:\n",
    "            outList.append(x)\n",
    "    \n",
    "\n",
    "    return(outList) # leave this line unchanged\n"
   ]
  },
  {
   "cell_type": "code",
   "execution_count": 22,
   "metadata": {},
   "outputs": [],
   "source": [
    "\"\"\"Adjust the two integer numbers to your liking.\"\"\"\n",
    "a = 15\n",
    "b = 21\n"
   ]
  },
  {
   "cell_type": "code",
   "execution_count": 23,
   "metadata": {
    "deletable": false,
    "editable": false,
    "nbgrader": {
     "cell_type": "code",
     "checksum": "85f7bc9beb9635e531a2721a0333f901",
     "grade": false,
     "grade_id": "cell-E1check",
     "locked": true,
     "schema_version": 3,
     "solution": false
    }
   },
   "outputs": [
    {
     "name": "stdout",
     "output_type": "stream",
     "text": [
      "The following numbers between 1 and 100 are divisable by 15 or 21: \n",
      "[15, 21, 30, 42, 45, 60, 63, 75, 84, 90]\n",
      "\n",
      "\n"
     ]
    }
   ],
   "source": [
    "\"\"\"Check the result of your code.\"\"\"\n",
    "print(\"The following numbers between 1 and 100 are divisable by {} or {}: \".format(a,b))\n",
    "print(divisionList(a,b))\n",
    "print(\"\\n\")"
   ]
  },
  {
   "cell_type": "code",
   "execution_count": 24,
   "metadata": {
    "deletable": false,
    "editable": false,
    "nbgrader": {
     "cell_type": "code",
     "checksum": "b15bb54f910a5ed422a3767c821a37e5",
     "grade": true,
     "grade_id": "cell-E1test",
     "locked": true,
     "points": 3,
     "schema_version": 3,
     "solution": false
    }
   },
   "outputs": [],
   "source": [
    "\"\"\"Check the result of your code.\"\"\"\n",
    "\n",
    "assert divisionList(99,100) == [99, 100]\n",
    "assert divisionList(15,21)  == [15, 21, 30, 42, 45, 60, 63, 75, 84, 90]\n",
    "\n"
   ]
  },
  {
   "cell_type": "markdown",
   "metadata": {
    "deletable": false,
    "editable": false,
    "nbgrader": {
     "cell_type": "markdown",
     "checksum": "d1dfaacf0f57c1b025f73a455795a857",
     "grade": false,
     "grade_id": "cell-E2",
     "locked": true,
     "schema_version": 3,
     "solution": false
    }
   },
   "source": [
    "### Task E.2\n",
    "\n",
    "You have given two lists containing a student grade book. Below that, samples show you more sophisticated list comprehensions. Study those examples and experiment with them in the available cells, further below."
   ]
  },
  {
   "cell_type": "code",
   "execution_count": 25,
   "metadata": {
    "deletable": false,
    "editable": false,
    "nbgrader": {
     "cell_type": "code",
     "checksum": "67a08df65dfb8a54a39f8606793417ed",
     "grade": false,
     "grade_id": "cell-E2data",
     "locked": true,
     "schema_version": 3,
     "solution": false
    }
   },
   "outputs": [],
   "source": [
    "# Sample grade book data\n",
    "#             0      1       2        3      4      5       6        7         8\n",
    "headings = [\"ID\", \"Name\", \"Gender\", \"HW1\", \"HW2\", \"HW3\", \"Exam1\", \"Exam2\", \"FinalExam\"]\n",
    "\n",
    "grades = [\n",
    "#    0          1          2    3   4   5   6   7   8\n",
    " [\"b0001\", \"Jane Doe\",    \"F\", 95, 87, 92, 88, 93, 90] # 0\n",
    ",[\"b0002\", \"John Blue\",   \"M\", 55, 76, 89, 77, 82, 80] # 1\n",
    ",[\"b0003\", \"Kim Tester\",  \"F\", 80, 75, 65, 70, 75, 80] # 2\n",
    ",[\"b0004\", \"Larry Black\", \"M\", 90, 90, 92, 95, 85, 94] # 3\n",
    ",[\"b0005\", \"Susan White\", \"F\", 65, 52, 85, 45, 80, 82] # 4\n",
    "]\n"
   ]
  },
  {
   "cell_type": "code",
   "execution_count": 26,
   "metadata": {
    "deletable": false,
    "editable": false,
    "nbgrader": {
     "cell_type": "code",
     "checksum": "448178a273439f3096ef45622f02d84e",
     "grade": false,
     "grade_id": "cell-E2code",
     "locked": true,
     "schema_version": 3,
     "solution": false
    }
   },
   "outputs": [
    {
     "name": "stdout",
     "output_type": "stream",
     "text": [
      "['b0001', 'Jane Doe', 'F', 95, 87, 92, 88, 93, 90]\n",
      "['b0002', 'John Blue', 'M', 55, 76, 89, 77, 82, 80]\n",
      "['b0003', 'Kim Tester', 'F', 80, 75, 65, 70, 75, 80]\n",
      "['b0004', 'Larry Black', 'M', 90, 90, 92, 95, 85, 94]\n",
      "['b0005', 'Susan White', 'F', 65, 52, 85, 45, 80, 82]\n"
     ]
    },
    {
     "data": {
      "text/plain": [
       "('Larry Black', 91.0)"
      ]
     },
     "execution_count": 26,
     "metadata": {},
     "output_type": "execute_result"
    }
   ],
   "source": [
    "# samples that use the Sample Grade Book in sample_grade_book.py\n",
    "# Don't import this -- just use cut-and-paste to test the individual\n",
    "#    expressions.\n",
    "\n",
    "# display the gradebook (will need to type this one in 2 lines)\n",
    "for g in grades:\n",
    "    print(g)\n",
    "\n",
    "# Larry Black's grade on Exam2\n",
    "grades[3][7]\n",
    "\n",
    "# Suppose you don't know the row/column numbers.\n",
    "# finding Larry Black's row\n",
    "headings.index('Name') # need to know the name column first\n",
    "\n",
    "[g[headings.index('Name')] for g in grades] # names of all students\n",
    "\n",
    "[g[headings.index('Name')] for g in grades].index('Larry Black') # find Larry Black's index\n",
    "\n",
    "# to get Larry Black's complete row in the gradebook\n",
    "grades[[g[headings.index('Name')] for g in grades].index('Larry Black')]\n",
    "\n",
    "# to get Larry Black's grades\n",
    "grades[[g[headings.index('Name')] for g in grades].index('Larry Black')][headings.index('HW1'):]\n",
    "\n",
    "#finding Exam2's column\n",
    "headings.index('Exam2')\n",
    "\n",
    "#finding Larry Black's grade on Exam2\n",
    "grades[[g[headings.index('Name')] for g in grades].index('Larry Black')][headings.index('Exam2')]\n",
    "\n",
    "# grades on Exam2\n",
    "[g[7] for g in grades]\n",
    "[g[headings.index('Exam2')] for g in grades]\n",
    "\n",
    "# average on hw2\n",
    "hw2 = [g[4] for g in grades]\n",
    "float(sum(hw2))/len(grades)\n",
    "# average on Exam2\n",
    "float(sum([g[headings.index('Exam2')] for g in grades]))/len(grades)\n",
    "\n",
    "\n",
    "# highest average\n",
    "h = max([sum(g[3:])/float(len(g[3:])) for g in grades])\n",
    "# index of that person\n",
    "pindex = [sum(g[3:])/float(len(g[3:])) for g in grades].index(h)\n",
    "# name and average\n",
    "grades[pindex][1], h\n",
    "# all together\n",
    "grades[[sum(g[3:])/float(len(g[3:])) for g in grades].index(max([sum(g[3:])/float(len(g[3:])) for g in grades]))\n",
    "][1], max([sum(g[3:])/float(len(g[3:])) for g in grades])"
   ]
  },
  {
   "cell_type": "markdown",
   "metadata": {
    "deletable": false,
    "editable": false,
    "nbgrader": {
     "cell_type": "markdown",
     "checksum": "96f746cd85f01956b2a18d018929efd7",
     "grade": false,
     "grade_id": "cell-E2note",
     "locked": true,
     "schema_version": 3,
     "solution": false
    }
   },
   "source": [
    "Try the examples by copying & pasting them into the code cells below. Study their output. You may also add more code cells, if you like. This exercise will not be graded, but it is helpful to understand list comprehensions at a very deep level."
   ]
  },
  {
   "cell_type": "code",
   "execution_count": null,
   "metadata": {},
   "outputs": [],
   "source": [
    "### Try the examples in this code cell. (This will not be graded.)\n",
    "\n"
   ]
  },
  {
   "cell_type": "code",
   "execution_count": null,
   "metadata": {},
   "outputs": [],
   "source": [
    "### Try the examples in this code cell. (This will not be graded.)\n",
    "\n"
   ]
  },
  {
   "cell_type": "code",
   "execution_count": null,
   "metadata": {},
   "outputs": [],
   "source": [
    "### Try the examples in this code cell. (This will not be graded.)\n",
    "\n"
   ]
  },
  {
   "cell_type": "code",
   "execution_count": null,
   "metadata": {},
   "outputs": [],
   "source": [
    "### Try the examples in this code cell. (This will not be graded.)\n",
    "\n"
   ]
  },
  {
   "cell_type": "markdown",
   "metadata": {
    "deletable": false,
    "editable": false,
    "nbgrader": {
     "cell_type": "markdown",
     "checksum": "864af93b6cc324f60b68757aaf5382c6",
     "grade": false,
     "grade_id": "cell-F1",
     "locked": true,
     "schema_version": 3,
     "solution": false
    }
   },
   "source": [
    "---\n",
    "## Part F: Dictionaries \n",
    "\n",
    "### Task F.1  (3 points)\n",
    "For this task, generate a new dictionary that merges the lists `headings` and `grades` from *Task E.2* into one dictionary of the name `students`. \n",
    "The dictionary `students` should be a nested dictionary: a dictionary of 5 dictionaries, with each of these 5 dictionaries containing a row of the list `grades`. Use the student ID's as key of the outer dictionary. Then use the remaining header lines as keys of the inner dictionaries and the remaing columns as values of the inner dictionaries. It is sufficient to include only one of the grade columns, e.g. `HW1` or `Exam2`.\n",
    "For the dictionary keys, use the name names as listed in `headings` above. Use appropriate object types for the content numbers and strings."
   ]
  },
  {
   "cell_type": "code",
   "execution_count": 31,
   "metadata": {
    "deletable": false,
    "nbgrader": {
     "cell_type": "code",
     "checksum": "51f411179a4f057b9dc8276a036cd736",
     "grade": true,
     "grade_id": "cell-F1answer",
     "locked": false,
     "points": 2,
     "schema_version": 3,
     "solution": true
    }
   },
   "outputs": [],
   "source": [
    "\"\"\"Convert the list grades into a dictionary of the name students.\"\"\"\n",
    "\n",
    "students = {'b0001': {'Name': 'Jane Doe', 'Gender': 'F', 'HW1': 95, 'Exam1': 88, 'FinalExam': 90},\n",
    "    'b0002': {'Name': 'John Blue', 'Gender': 'M', 'HW1': 55, 'Exam1': 77, 'FinalExam': 80},\n",
    "    'b0003': {'Name': 'Kim Tester', 'Gender': 'F', 'HW1': 80, 'Exam1': 70, 'FinalExam': 80},\n",
    "    'b0004': {'Name': 'Larry Black', 'Gender': 'M', 'HW1': 90, 'Exam1': 95, 'FinalExam': 94},\n",
    "    'b0005': {'Name': 'Susan White', 'Gender': 'F', 'HW1': 65, 'Exam1': 45, 'FinalExam': 82}}"
   ]
  },
  {
   "cell_type": "code",
   "execution_count": 32,
   "metadata": {
    "deletable": false,
    "editable": false,
    "nbgrader": {
     "cell_type": "code",
     "checksum": "13691d95595b8b0865c57479aacb9070",
     "grade": true,
     "grade_id": "cell-F1test",
     "locked": true,
     "points": 1,
     "schema_version": 3,
     "solution": false
    }
   },
   "outputs": [],
   "source": [
    "\"\"\"Check the result of your code.\"\"\"\n",
    "\n",
    "assert type(students) == dict\n",
    "assert list(students.keys())[0] == 'b0001'\n",
    "assert len(students) == 5\n",
    "assert len(students['b0001']) > 2\n",
    "assert students['b0001']['Name'] == 'Jane Doe'\n",
    "assert students['b0002']['Gender'] == 'M'\n"
   ]
  },
  {
   "cell_type": "markdown",
   "metadata": {
    "deletable": false,
    "editable": false,
    "nbgrader": {
     "cell_type": "markdown",
     "checksum": "4ad909b060727268afc54767a10bf140",
     "grade": false,
     "grade_id": "cell-F2quest",
     "locked": true,
     "schema_version": 3,
     "solution": false
    }
   },
   "source": [
    "### Task F.2  (1 point)\n",
    "Now, given this dictionary, how can you look up a any student's (e.g. Larry Black's) grade in any exam (e.g. Exam2) from the dictionary students? Write a chained list comprehension in the code cell below. "
   ]
  },
  {
   "cell_type": "code",
   "execution_count": 33,
   "metadata": {
    "deletable": false,
    "nbgrader": {
     "cell_type": "code",
     "checksum": "45a685e74b809846cc5d0b4a1a2fa297",
     "grade": true,
     "grade_id": "cell-F2answer",
     "locked": false,
     "points": 1,
     "schema_version": 3,
     "solution": true
    }
   },
   "outputs": [
    {
     "data": {
      "text/plain": [
       "{'Name': 'Larry Black', 'Gender': 'M', 'HW1': 90, 'Exam1': 95, 'FinalExam': 94}"
      ]
     },
     "execution_count": 33,
     "metadata": {},
     "output_type": "execute_result"
    }
   ],
   "source": [
    "\"\"\"Enter your code.\"\"\"\n",
    "\n",
    "students['b0004']\n",
    "\n",
    "# Check the result of your code, below"
   ]
  },
  {
   "cell_type": "markdown",
   "metadata": {
    "deletable": false,
    "editable": false,
    "nbgrader": {
     "cell_type": "markdown",
     "checksum": "0d9d1157c476443a156c0049b4b93a41",
     "grade": false,
     "grade_id": "cell-G",
     "locked": true,
     "schema_version": 3,
     "solution": false
    }
   },
   "source": [
    "---\n",
    "## Part G: Ungraded Tasks for Further Practise.\n",
    "\n",
    "In this part, a few more coding exercises are given, which you may use for practise. However, these will not be tested or graded.\n",
    "\n",
    "* Write a list comprehension, that generates a list of numbers between 1 and 1000 in steps of 100 and then returns the square of each value. (Hint: `range()`).\n",
    "* Using list comprehensions only, create a 4x4 idendity matrix.\n",
    "* Develop the code that transfers a list, L, of integers into a second list L2 containing the only the even numbers from L. (Hint: Modulus Operator)\n",
    "* Using the student gradebook dictionary form above, write a list comprehension (chain), which can find the Person with the highest grade in Exam 2, without knowing the content (but the structure) of the dataset."
   ]
  },
  {
   "cell_type": "code",
   "execution_count": null,
   "metadata": {},
   "outputs": [],
   "source": []
  },
  {
   "cell_type": "code",
   "execution_count": null,
   "metadata": {},
   "outputs": [],
   "source": []
  },
  {
   "cell_type": "code",
   "execution_count": null,
   "metadata": {},
   "outputs": [],
   "source": []
  },
  {
   "cell_type": "code",
   "execution_count": null,
   "metadata": {},
   "outputs": [],
   "source": []
  },
  {
   "cell_type": "code",
   "execution_count": null,
   "metadata": {},
   "outputs": [],
   "source": []
  },
  {
   "cell_type": "markdown",
   "metadata": {
    "deletable": false,
    "editable": false,
    "nbgrader": {
     "cell_type": "markdown",
     "checksum": "0cf520b57687fdfd2924a95f18748607",
     "grade": false,
     "grade_id": "cell-fianl",
     "locked": true,
     "schema_version": 3,
     "solution": false
    }
   },
   "source": [
    "If you are satisfied with the test, validate your notebook, save it and make a backup until you submit this assignment."
   ]
  }
 ],
 "metadata": {
  "kernelspec": {
   "display_name": "Python 3",
   "language": "python",
   "name": "python3"
  },
  "language_info": {
   "codemirror_mode": {
    "name": "ipython",
    "version": 3
   },
   "file_extension": ".py",
   "mimetype": "text/x-python",
   "name": "python",
   "nbconvert_exporter": "python",
   "pygments_lexer": "ipython3",
   "version": "3.6.8"
  }
 },
 "nbformat": 4,
 "nbformat_minor": 2
}
